{
 "cells": [
  {
   "cell_type": "markdown",
   "id": "8cb62e59",
   "metadata": {},
   "source": [
    "To handle outliers in data science using the **five-number summary** and **plotting techniques**, here’s a clear and detailed explanation:\n",
    "\n",
    "---\n",
    "\n",
    "## 📊 What Is the Five-Number Summary?\n",
    "\n",
    "The five-number summary gives a quick snapshot of your data distribution. It includes:\n",
    "1. **Minimum** – the smallest value\n",
    "2. **Q1 (First Quartile)** – 25% of data falls below this\n",
    "3. **Median (Q2)** – the middle value\n",
    "4. **Q3 (Third Quartile)** – 75% of data falls below this\n",
    "5. **Maximum** – the largest value\n",
    "\n",
    "These five values help identify the spread and potential outliers in your dataset.\n",
    "\n",
    "---\n",
    "\n",
    "## 📦 Step-by-Step: Handling Outliers with Five-Number Summary\n",
    "\n",
    "### 1. **Calculate the Summary**\n",
    "You can use Python’s `describe()` or `numpy.percentile()` to get these values.\n",
    "\n",
    "```python\n",
    "import numpy as np\n",
    "\n",
    "data = [your_data_here]\n",
    "q1 = np.percentile(data, 25)\n",
    "q3 = np.percentile(data, 75)\n",
    "iqr = q3 - q1\n",
    "```\n",
    "\n",
    "### 2. **Define Outlier Boundaries**\n",
    "Outliers are typically values that fall outside:\n",
    "\n",
    "- **Lower Bound**: Q1 − 1.5 × IQR\n",
    "- **Upper Bound**: Q3 + 1.5 × IQR\n",
    "\n",
    "```python\n",
    "lower_bound = q1 - 1.5 * iqr\n",
    "upper_bound = q3 + 1.5 * iqr\n",
    "```\n",
    "\n",
    "### 3. **Identify Outliers**\n",
    "Filter values outside these bounds:\n",
    "\n",
    "```python\n",
    "outliers = [x for x in data if x < lower_bound or x > upper_bound]\n",
    "```\n",
    "\n",
    "---\n",
    "\n",
    "## 📈 Visualizing Outliers\n",
    "\n",
    "### 🔹 Box Plot\n",
    "A box plot is the best way to visualize the five-number summary and spot outliers.\n",
    "\n",
    "```python\n",
    "import matplotlib.pyplot as plt\n",
    "\n",
    "plt.boxplot(data)\n",
    "plt.title(\"Box Plot of Data\")\n",
    "plt.show()\n",
    "```\n",
    "\n",
    "- The box shows Q1 to Q3.\n",
    "- The line inside the box is the median.\n",
    "- Dots outside the “whiskers” are outliers.\n",
    "\n",
    "### 🔹 Histogram or Scatter Plot\n",
    "These can also show where outliers sit compared to the rest of the data.\n",
    "\n",
    "---\n",
    "\n",
    "## 🧹 What to Do with Outliers\n",
    "\n",
    "- **Remove**: If they’re errors or irrelevant.\n",
    "- **Cap**: Replace extreme values with boundary values (winsorizing).\n",
    "- **Transform**: Use log or square root to reduce their impact.\n",
    "- **Keep**: If they represent important rare events.\n",
    "\n",
    "---\n",
    "\n",
    "## ✅ Summary\n",
    "\n",
    "Using the five-number summary and box plots helps you:\n",
    "- Understand your data distribution\n",
    "- Spot outliers clearly\n",
    "- Decide how to treat them based on context\n",
    "\n"
   ]
  },
  {
   "cell_type": "code",
   "execution_count": 1,
   "id": "241f6d19",
   "metadata": {},
   "outputs": [],
   "source": [
    "import numpy as np"
   ]
  },
  {
   "cell_type": "code",
   "execution_count": 22,
   "id": "2991ac34",
   "metadata": {},
   "outputs": [],
   "source": [
    "list_marks=[85, 90, 78, 92, 88, 76, 95, 30, 124, 89, 84, 91, 87, 93, 80, 82, 94]\n",
    "minimum, maximum, Q1, median, Q3= np.percentile(list_marks, [0, 100, 25, 50, 75])"
   ]
  },
  {
   "cell_type": "code",
   "execution_count": 17,
   "id": "3be2f453",
   "metadata": {},
   "outputs": [
    {
     "data": {
      "text/plain": [
       "30.0"
      ]
     },
     "execution_count": 17,
     "metadata": {},
     "output_type": "execute_result"
    }
   ],
   "source": [
    "minimum"
   ]
  },
  {
   "cell_type": "code",
   "execution_count": 23,
   "id": "8b033690",
   "metadata": {},
   "outputs": [
    {
     "data": {
      "text/plain": [
       "92.0"
      ]
     },
     "execution_count": 23,
     "metadata": {},
     "output_type": "execute_result"
    }
   ],
   "source": [
    "Q3"
   ]
  },
  {
   "cell_type": "code",
   "execution_count": 24,
   "id": "dcaf1e61",
   "metadata": {},
   "outputs": [
    {
     "data": {
      "text/plain": [
       "(67.0, 107.0, 10.0)"
      ]
     },
     "execution_count": 24,
     "metadata": {},
     "output_type": "execute_result"
    }
   ],
   "source": [
    "## define upper and lower bound\n",
    "IQR= Q3 - Q1\n",
    "lower_bound= Q1 - 1.5 * IQR\n",
    "upper_bound= Q3 + 1.5 * IQR\n",
    "lower_bound, upper_bound, IQR\n",
    "\n"
   ]
  },
  {
   "cell_type": "code",
   "execution_count": 25,
   "id": "ad64cebf",
   "metadata": {},
   "outputs": [
    {
     "data": {
      "image/png": "[encoded data removed]",
      "text/plain": [
       "<Figure size 640x480 with 1 Axes>"
      ]
     },
     "metadata": {},
     "output_type": "display_data"
    }
   ],
   "source": [
    "# plot boxplot\n",
    "import matplotlib.pyplot as plt\n",
    "plt.boxplot(list_marks)\n",
    "plt.title(\"Boxplot of Student Marks\")\n",
    "plt.ylabel(\"Marks\")\n",
    "plt.show()"
   ]
  },
  {
   "cell_type": "code",
   "execution_count": null,
   "id": "a19a9757",
   "metadata": {},
   "outputs": [],
   "source": []
  }
 ],
 "metadata": {
  "kernelspec": {
   "display_name": "Python 3",
   "language": "python",
   "name": "python3"
  },
  "language_info": {
   "codemirror_mode": {
    "name": "ipython",
    "version": 3
   },
   "file_extension": ".py",
   "mimetype": "text/x-python",
   "name": "python",
   "nbconvert_exporter": "python",
   "pygments_lexer": "ipython3",
   "version": "3.12.2"
  }
 },
 "nbformat": 4,
 "nbformat_minor": 5
}
